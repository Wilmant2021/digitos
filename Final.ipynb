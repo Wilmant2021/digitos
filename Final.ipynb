{
 "cells": [
  {
   "cell_type": "markdown",
   "id": "5c048fb7",
   "metadata": {},
   "source": [
    "# **Clasificación de Dígitos Manuscritos - Análisis y Entrenamiento de Modelos Supervisados**\n",
    "\n",
    "---\n",
    "\n",
    "## **1. Descripción del problema y del conjunto de datos**\n",
    "\n",
    "Este proyecto aborda un problema de **clasificación de imágenes**, específicamente la **identificación de dígitos manuscritos** (del 0 al 9) a partir de imágenes en escala de grises.  \n",
    "El objetivo es construir **modelos de aprendizaje supervisado** capaces de predecir correctamente el dígito que representa cada imagen.\n",
    "\n",
    "El conjunto de datos proviene de la plataforma **Kaggle** y contiene imágenes de **28x28 píxeles**, cada una representada como una fila con **784 características** (una por píxel), más una columna `label` que indica el dígito correcto.\n",
    "\n",
    "---\n",
    "\n",
    "### **Variables:**\n",
    "\n",
    "- **label:**  \n",
    "  Entero entre 0 y 9 que representa el dígito manuscrito.\n",
    "\n",
    "- **pixel0 a pixel783:**  \n",
    "  Valores entre 0 y 255 que indican la intensidad de cada píxel.\n",
    "\n",
    "---\n",
    "\n",
    "Este conjunto de datos es **ampliamente utilizado** para tareas de clasificación de imágenes debido a su simplicidad y relevancia en problemas reales de **visión por computador**."
   ]
  },
  {
   "cell_type": "markdown",
   "id": "f28d4d4f",
   "metadata": {},
   "source": [
    "## **2. Visualización e inspección de los datos**\n",
    "\n",
    "Para entender mejor los datos, se utilizaron las siguientes **herramientas de visualización**:\n",
    "\n",
    "- **Muestra de imágenes:**  \n",
    "  Se reconstruyen algunas imágenes a partir de los valores de los píxeles para visualizar los dígitos.\n",
    "\n",
    "- **Histograma de clases:**  \n",
    "  Permite observar el **balance de clases** en el conjunto.\n",
    "\n",
    "- **Matriz de correlación** (cuando aplica):  \n",
    "  Útil en casos de datos tabulares, para ver la **relación entre variables**.\n",
    "\n",
    "- **Gráficos de dispersión PCA o t-SNE:**  \n",
    "  Se usaron para **reducir la dimensionalidad** y visualizar la distribución de las clases.\n",
    "\n",
    "Estas visualizaciones ayudan a detectar problemas como **clases desbalanceadas**, **imágenes corruptas** o **falta de variedad** en los datos."
   ]
  },
  {
   "cell_type": "markdown",
   "id": "dbc0a7ee",
   "metadata": {},
   "source": [
    "## **3. Preprocesamiento y preparación de los datos**\n",
    "\n",
    "Las siguientes estrategias fueron aplicadas para preparar los datos:\n",
    "\n",
    "- **Normalización:**  \n",
    "  Se escalan los valores de píxeles entre 0 y 1 dividiendo por 255.\n",
    "\n",
    "- **División en entrenamiento y prueba:**  \n",
    "  Se dividió el conjunto en **80% para entrenamiento** y **20% para prueba**.\n",
    "\n",
    "- **Codificación (cuando aplica):**  \n",
    "  No necesaria aquí porque las etiquetas ya están codificadas como enteros.\n",
    "\n",
    "- **Balanceo de clases:**  \n",
    "  Se verificó que las clases estuvieran balanceadas. Si no lo estuvieran, se podría aplicar **sobremuestreo (SMOTE)** o **submuestreo**.\n",
    "\n",
    "- **Reducción de dimensiones:**  \n",
    "  Mediante **PCA** para acelerar algunos algoritmos, si se considera conveniente."
   ]
  },
  {
   "cell_type": "markdown",
   "id": "f08010d8",
   "metadata": {},
   "source": [
    "## **4. Entrenamiento de modelos y ajuste de hiperparámetros**\n",
    "\n",
    "Se entrenaron los siguientes modelos utilizando **GridSearchCV** con validación cruzada:\n",
    "\n",
    "- **Regresión logística multiclase (One-vs-Rest):**  \n",
    "  Ajustando los parámetros **C** y **solver**.\n",
    "\n",
    "- **Árboles de decisión:**  \n",
    "  Ajustando **max_depth**, **min_samples_split** y **criterion**.\n",
    "\n",
    "- **Random Forest:**  \n",
    "  Optimizando **n_estimators**, **max_features** y **max_depth**.\n",
    "\n",
    "- **Redes neuronales (MLPClassifier):**  \n",
    "  Búsqueda sobre **hidden_layer_sizes**, **activation**, **alpha** y **learning_rate_init**.\n",
    "\n",
    "Cada modelo fue evaluado usando **validación cruzada (cv=5)** para evitar sobreajuste y seleccionar los mejores hiperparámetros."
   ]
  }
 ],
 "metadata": {
  "kernelspec": {
   "display_name": "Python 3",
   "language": "python",
   "name": "python3"
  },
  "language_info": {
   "name": "python",
   "version": "3.11.9"
  }
 },
 "nbformat": 4,
 "nbformat_minor": 5
}
